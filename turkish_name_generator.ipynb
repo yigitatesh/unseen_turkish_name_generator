{
 "cells": [
  {
   "cell_type": "markdown",
   "metadata": {},
   "source": [
    "# 1) NECESSARY TO RUN"
   ]
  },
  {
   "cell_type": "markdown",
   "metadata": {},
   "source": [
    "# Load Processed Data"
   ]
  },
  {
   "cell_type": "code",
   "execution_count": 1,
   "metadata": {},
   "outputs": [],
   "source": [
    "with open(\"data/names_ascii.txt\") as f:\n",
    "    names = f.readlines()"
   ]
  },
  {
   "cell_type": "code",
   "execution_count": 2,
   "metadata": {},
   "outputs": [
    {
     "data": {
      "text/plain": [
       "['aba\\n',\n",
       " 'abaca\\n',\n",
       " 'abacan\\n',\n",
       " 'abac\\n',\n",
       " 'abay\\n',\n",
       " 'abayhan\\n',\n",
       " 'abaza\\n',\n",
       " 'abbas\\n',\n",
       " 'abdal\\n',\n",
       " 'abdi\\n',\n",
       " 'abdullah\\n',\n",
       " 'abdurrahman\\n',\n",
       " 'abdulalim\\n',\n",
       " 'abdulazim\\n',\n",
       " 'abdulaziz\\n',\n",
       " 'abdulbaki\\n',\n",
       " 'abdulbari\\n',\n",
       " 'abdulbasir\\n',\n",
       " 'abdulbasit\\n',\n",
       " 'abdulcabbar\\n',\n",
       " 'abdulcebbar\\n',\n",
       " 'abdulcelil\\n',\n",
       " 'abdulcemal\\n',\n",
       " 'abdulcevat\\n',\n",
       " 'abdulezel\\n',\n",
       " 'abdulferit\\n',\n",
       " 'abdulfettah\\n',\n",
       " 'abdulgaffar\\n',\n",
       " 'abdulgaffur\\n',\n",
       " 'abdulgafur\\n',\n",
       " 'abdulgani\\n',\n",
       " 'abdulhadi\\n',\n",
       " 'abdulhak\\n',\n",
       " 'abdulhakim\\n',\n",
       " 'abdulhalik\\n',\n",
       " 'abdulhalim\\n',\n",
       " 'abdulhamit\\n',\n",
       " 'abdulkadir\\n',\n",
       " 'abdulkahhar\\n',\n",
       " 'abdulkerim\\n',\n",
       " 'abdullatif\\n',\n",
       " 'abdulmecit\\n',\n",
       " 'abdulmelik\\n',\n",
       " 'abdulmennan\\n',\n",
       " 'abdulmetin\\n',\n",
       " 'abdulnasir\\n',\n",
       " 'abdulvahap\\n',\n",
       " 'abdulvahit\\n',\n",
       " 'abdurrahim\\n',\n",
       " 'abdurrahman\\n',\n",
       " 'abdurrauf\\n',\n",
       " 'abdurresit\\n',\n",
       " 'abdurrezzak\\n',\n",
       " 'abdussamet\\n',\n",
       " 'abdussami\\n',\n",
       " 'abdusselam\\n',\n",
       " 'abdussemi\\n',\n",
       " 'abdussettar\\n',\n",
       " 'abduzzeki\\n',\n",
       " 'abgul\\n',\n",
       " 'abher\\n',\n",
       " 'abihayat\\n',\n",
       " 'abir\\n',\n",
       " 'abiru\\n',\n",
       " 'abid\\n',\n",
       " 'abide\\n',\n",
       " 'abidin\\n',\n",
       " 'abil\\n',\n",
       " 'abir\\n',\n",
       " 'abit\\n',\n",
       " 'abiye\\n',\n",
       " 'ablak\\n',\n",
       " 'abras\\n',\n",
       " 'abruy\\n',\n",
       " 'abuska\\n',\n",
       " 'abuzer\\n',\n",
       " 'abuzettin\\n',\n",
       " 'acabay\\n',\n",
       " 'acabey\\n',\n",
       " 'agabay\\n',\n",
       " 'agcabey\\n',\n",
       " 'akabay\\n',\n",
       " 'akabey\\n',\n",
       " 'akcabay\\n',\n",
       " 'alabas\\n',\n",
       " 'alabay\\n',\n",
       " 'alabegim\\n',\n",
       " 'alabegum\\n',\n",
       " 'alabezek\\n',\n",
       " 'almabanu\\n',\n",
       " 'anabaci\\n',\n",
       " 'anaboru\\n',\n",
       " 'atabay\\n',\n",
       " 'atabek\\n',\n",
       " 'atabey\\n',\n",
       " 'ataboru\\n',\n",
       " 'ayaba\\n',\n",
       " 'babacan\\n',\n",
       " 'babac\\n',\n",
       " 'babayigit\\n',\n",
       " 'babur\\n',\n",
       " 'babursah\\n',\n",
       " 'balaban\\n',\n",
       " 'cabbar\\n',\n",
       " 'cabir\\n',\n",
       " 'caba\\n',\n",
       " 'cabar\\n',\n",
       " 'farabi\\n',\n",
       " 'gultab\\n',\n",
       " 'hicabi\\n',\n",
       " 'isabet\\n',\n",
       " 'kabadayi\\n',\n",
       " 'kaban\\n',\n",
       " 'kabil\\n',\n",
       " 'kamertab\\n',\n",
       " 'karabas\\n',\n",
       " 'karabatak\\n',\n",
       " 'karabay\\n',\n",
       " 'karabet\\n',\n",
       " 'karabey\\n',\n",
       " 'karaboga\\n',\n",
       " 'karaboru\\n',\n",
       " 'karabudun\\n',\n",
       " 'karabugday\\n',\n",
       " 'karabugra\\n',\n",
       " 'karabulut\\n',\n",
       " 'karabukey\\n',\n",
       " 'karacabey\\n',\n",
       " 'kayrabay\\n',\n",
       " 'kocabas\\n',\n",
       " 'kocabey\\n',\n",
       " 'mehabet\\n',\n",
       " 'muhabbet\\n',\n",
       " 'nabi\\n',\n",
       " 'nabia\\n',\n",
       " 'nabiye\\n',\n",
       " 'necabet\\n',\n",
       " 'necabettin\\n',\n",
       " 'nursabah\\n',\n",
       " 'nusabe\\n',\n",
       " 'olcabay\\n',\n",
       " 'rabbani\\n',\n",
       " 'rabi\\n',\n",
       " 'rabia\\n',\n",
       " 'rabih\\n',\n",
       " 'saba\\n',\n",
       " 'sabah\\n',\n",
       " 'sabahat\\n',\n",
       " 'sabahattin\\n',\n",
       " 'sabahnur\\n',\n",
       " 'sabar\\n',\n",
       " 'sabbar\\n',\n",
       " 'sabika\\n',\n",
       " 'sabir\\n',\n",
       " 'sabih\\n',\n",
       " 'sabiha\\n',\n",
       " 'sabir\\n',\n",
       " 'sabire\\n',\n",
       " 'sabit\\n',\n",
       " 'sabite\\n',\n",
       " 'sabiye\\n',\n",
       " 'sabri\\n',\n",
       " 'sabrinnisa\\n',\n",
       " 'sabriye\\n',\n",
       " 'sabur\\n',\n",
       " 'sabutay\\n',\n",
       " 'sahabi\\n',\n",
       " 'saricabay\\n',\n",
       " 'saban\\n',\n",
       " 'sahabettin\\n',\n",
       " 'tabende\\n',\n",
       " 'tabgac\\n',\n",
       " 'turabi\\n',\n",
       " 'yabalak\\n',\n",
       " 'yaban\\n',\n",
       " 'yabar\\n',\n",
       " 'yabgu\\n',\n",
       " 'yabiz\\n',\n",
       " 'yalabuk\\n',\n",
       " 'yalazabay\\n',\n",
       " 'zabit\\n',\n",
       " 'zeynelabidin\\n',\n",
       " 'aca\\n',\n",
       " 'acahan\\n',\n",
       " 'acar\\n',\n",
       " 'acaralp\\n',\n",
       " 'acarbegum\\n',\n",
       " 'acarbey\\n',\n",
       " 'acarbike\\n',\n",
       " 'acarbuke\\n',\n",
       " 'acarer\\n',\n",
       " 'acarhatun\\n',\n",
       " 'acarkan\\n',\n",
       " 'acarkatun\\n',\n",
       " 'acarman\\n',\n",
       " 'acaroz\\n',\n",
       " 'acarsoy\\n',\n",
       " 'acarturk\\n',\n",
       " 'acatay\\n',\n",
       " 'acidas\\n',\n",
       " 'aclan\\n',\n",
       " 'acun\\n',\n",
       " 'acunal\\n',\n",
       " 'acunalan\\n',\n",
       " 'acunalp\\n',\n",
       " 'acunbegim\\n',\n",
       " 'acunbegum\\n',\n",
       " 'acunbike\\n',\n",
       " 'acunbuke\\n',\n",
       " 'acuner\\n',\n",
       " 'acungunes\\n',\n",
       " 'acunisik\\n',\n",
       " 'acunman\\n',\n",
       " 'acunseven\\n',\n",
       " 'aca\\n',\n",
       " 'acalya\\n',\n",
       " 'acangul\\n',\n",
       " 'acelya\\n',\n",
       " 'acikalin\\n',\n",
       " 'acikel\\n',\n",
       " 'aciker\\n',\n",
       " 'acikgun\\n',\n",
       " 'acil\\n',\n",
       " 'acilay\\n',\n",
       " 'acine\\n',\n",
       " 'ackingul\\n',\n",
       " 'adahan\\n',\n",
       " 'adak\\n',\n",
       " 'adal\\n',\n",
       " 'adalan\\n',\n",
       " 'adalet\\n',\n",
       " 'adalettin\\n',\n",
       " 'adam\\n',\n",
       " 'adamis\\n',\n",
       " 'adanan\\n',\n",
       " 'adanir\\n',\n",
       " 'adar\\n',\n",
       " 'adarkan\\n',\n",
       " 'adasal\\n',\n",
       " 'adas\\n',\n",
       " 'aday\\n',\n",
       " 'adeviye\\n',\n",
       " 'adibelli\\n',\n",
       " 'adigun\\n',\n",
       " 'adiguzel\\n',\n",
       " 'adin\\n',\n",
       " 'adisanli\\n',\n",
       " 'adisonmez\\n',\n",
       " 'adisah\\n',\n",
       " 'adivar\\n',\n",
       " 'adiyahsi\\n',\n",
       " 'adiyaman\\n',\n",
       " 'adil\\n',\n",
       " 'adile\\n',\n",
       " 'adilhan\\n',\n",
       " 'adlan\\n',\n",
       " 'adli\\n',\n",
       " 'adlig\\n',\n",
       " 'adli\\n',\n",
       " 'adnan\\n',\n",
       " 'adni\\n',\n",
       " 'adniye\\n',\n",
       " 'adsiz\\n',\n",
       " 'adsoy\\n',\n",
       " 'adviye\\n',\n",
       " 'afacan\\n',\n",
       " 'afak\\n',\n",
       " 'afer\\n',\n",
       " 'afet\\n',\n",
       " 'affan\\n',\n",
       " 'afi\\n',\n",
       " 'afif\\n',\n",
       " 'afife\\n',\n",
       " 'afitap\\n',\n",
       " 'afiye\\n',\n",
       " 'afiyet\\n',\n",
       " 'afra\\n',\n",
       " 'afsar\\n',\n",
       " 'afsin\\n',\n",
       " 'agah\\n',\n",
       " 'agil\\n',\n",
       " 'agus\\n',\n",
       " 'aga\\n',\n",
       " 'agacan\\n',\n",
       " 'agahan\\n',\n",
       " 'agahanim\\n',\n",
       " 'agahatun\\n',\n",
       " 'agakan\\n',\n",
       " 'agakatun\\n',\n",
       " 'agan\\n',\n",
       " 'aganbegim\\n',\n",
       " 'aganbegum\\n',\n",
       " 'aganbike\\n',\n",
       " 'aganbuke\\n',\n",
       " 'aganer\\n',\n",
       " 'agaoglu\\n',\n",
       " 'agar\\n',\n",
       " 'agarantan\\n',\n",
       " 'agaverdi\\n',\n",
       " 'agbaci\\n',\n",
       " 'agbegim\\n',\n",
       " 'agbegum\\n',\n",
       " 'agbet\\n',\n",
       " 'agbilek\\n',\n",
       " 'agca\\n',\n",
       " 'agca\\n',\n",
       " 'agcelik\\n',\n",
       " 'ager\\n',\n",
       " 'aggul\\n',\n",
       " 'agin\\n',\n",
       " 'agirtas\\n',\n",
       " 'agis\\n',\n",
       " 'agkiz\\n',\n",
       " 'agnak\\n',\n",
       " 'agyar\\n',\n",
       " 'ahen\\n',\n",
       " 'ahenk\\n',\n",
       " 'ahfes\\n',\n",
       " 'ahiska\\n',\n",
       " 'ahi\\n',\n",
       " 'ahmet\\n',\n",
       " 'ahsen\\n',\n",
       " 'ahter\\n',\n",
       " 'ahu\\n',\n",
       " 'aise\\n',\n",
       " 'ajda\\n',\n",
       " 'ajlan\\n',\n",
       " 'ak\\n',\n",
       " 'aka\\n',\n",
       " 'akad\\n',\n",
       " 'akadli\\n',\n",
       " 'akagan\\n',\n",
       " 'akal\\n',\n",
       " 'akalan\\n',\n",
       " 'akalin\\n',\n",
       " 'akalp\\n',\n",
       " 'akaltan\\n',\n",
       " 'akan\\n',\n",
       " 'akanay\\n',\n",
       " 'akaner\\n',\n",
       " 'akansu\\n',\n",
       " 'akant\\n',\n",
       " 'akanyildiz\\n',\n",
       " 'akarca\\n',\n",
       " 'akarcay\\n',\n",
       " 'akarsel\\n',\n",
       " 'akarsu\\n',\n",
       " 'akartuna\\n',\n",
       " 'akarturk\\n',\n",
       " 'akasma\\n',\n",
       " 'akasoy\\n',\n",
       " 'akata\\n',\n",
       " 'akatay\\n',\n",
       " 'akay\\n',\n",
       " 'akaydin\\n',\n",
       " 'akbaci\\n',\n",
       " 'akbal\\n',\n",
       " 'akbaran\\n',\n",
       " 'akbas\\n',\n",
       " 'akbasak\\n',\n",
       " 'akbatu\\n',\n",
       " 'akbatur\\n',\n",
       " 'akbay\\n',\n",
       " 'akbayar\\n',\n",
       " 'akbek\\n',\n",
       " 'akbel\\n',\n",
       " 'akbet\\n',\n",
       " 'akbey\\n',\n",
       " 'akbil\\n',\n",
       " 'akbilge\\n',\n",
       " 'akboga\\n',\n",
       " 'akbora\\n',\n",
       " 'akboy\\n',\n",
       " 'akboru\\n',\n",
       " 'akbudun\\n',\n",
       " 'akbug\\n',\n",
       " 'akbulut\\n',\n",
       " 'akburak\\n',\n",
       " 'akburc\\n',\n",
       " 'akburcak\\n',\n",
       " 'akcan\\n',\n",
       " 'akcebe\\n',\n",
       " 'akcivan\\n',\n",
       " 'akca\\n',\n",
       " 'akcael\\n',\n",
       " 'akcagul\\n',\n",
       " 'akcakan\\n',\n",
       " 'akcakaya\\n',\n",
       " 'akcakil\\n',\n",
       " 'akcakoca\\n',\n",
       " 'akcal\\n',\n",
       " 'akcali\\n',\n",
       " 'akcam\\n',\n",
       " 'akcan\\n',\n",
       " 'akcasu\\n',\n",
       " 'akcay\\n',\n",
       " 'akcer\\n',\n",
       " 'akcigir\\n',\n",
       " 'akcil\\n',\n",
       " 'akcinar\\n',\n",
       " 'akcicek\\n',\n",
       " 'akcit\\n',\n",
       " 'akcora\\n',\n",
       " 'akdag\\n',\n",
       " 'akdal\\n',\n",
       " 'akdamar\\n',\n",
       " 'akdemir\\n',\n",
       " 'akdeniz\\n',\n",
       " 'akdes\\n',\n",
       " 'akdik\\n',\n",
       " 'akdiken\\n',\n",
       " 'akdil\\n',\n",
       " 'akdog\\n',\n",
       " 'akdogan\\n',\n",
       " 'akdogdu\\n',\n",
       " 'akdogmus\\n',\n",
       " 'akdogu\\n',\n",
       " 'akdolun\\n',\n",
       " 'akdora\\n',\n",
       " 'akdoru\\n',\n",
       " 'akdoruk\\n',\n",
       " 'akdol\\n',\n",
       " 'akduman\\n',\n",
       " 'akdur\\n',\n",
       " 'akdurmus\\n',\n",
       " 'akel\\n',\n",
       " 'aker\\n',\n",
       " 'akergin\\n',\n",
       " 'akerman\\n',\n",
       " 'akersan\\n',\n",
       " 'akersoy\\n',\n",
       " 'akgil\\n',\n",
       " 'akgiray\\n',\n",
       " 'akgol\\n',\n",
       " 'akgoze\\n',\n",
       " 'akguc\\n',\n",
       " 'akgul\\n',\n",
       " 'akgun\\n',\n",
       " 'akgunduz\\n',\n",
       " 'akguner\\n',\n",
       " 'akgunes\\n',\n",
       " 'akgungor\\n',\n",
       " 'akhan\\n',\n",
       " 'akhanim\\n',\n",
       " 'akhun\\n',\n",
       " 'aki\\n',\n",
       " 'akialp\\n',\n",
       " 'akil\\n',\n",
       " 'akilbek\\n',\n",
       " 'akilli\\n',\n",
       " 'akiman\\n',\n",
       " 'akin\\n',\n",
       " 'akinal\\n',\n",
       " 'akinalp\\n',\n",
       " 'akinci\\n',\n",
       " 'akincibay\\n',\n",
       " 'akiner\\n',\n",
       " 'akineri\\n',\n",
       " 'akintan\\n',\n",
       " 'akibe\\n',\n",
       " 'akide\\n',\n",
       " 'akif\\n',\n",
       " 'akife\\n',\n",
       " 'akil\\n',\n",
       " 'akile\\n',\n",
       " 'akinci\\n',\n",
       " 'akip\\n',\n",
       " 'akipek\\n',\n",
       " 'akkadin\\n',\n",
       " 'akkan\\n',\n",
       " 'akkar\\n',\n",
       " 'akkas\\n',\n",
       " 'akkaya\\n',\n",
       " 'akkaynak\\n',\n",
       " 'akkemik\\n',\n",
       " 'akkerman\\n',\n",
       " 'akkilic\\n',\n",
       " 'akkin\\n',\n",
       " 'akkiz\\n',\n",
       " 'akkor\\n',\n",
       " 'akkoz\\n',\n",
       " 'akkurt\\n',\n",
       " 'akkus\\n',\n",
       " 'akkutlu\\n',\n",
       " 'akkuyas\\n',\n",
       " 'aklan\\n',\n",
       " 'akmac\\n',\n",
       " 'akman\\n',\n",
       " 'akmanalp\\n',\n",
       " 'akmaner\\n',\n",
       " 'akmaral\\n',\n",
       " 'akmeric\\n',\n",
       " 'aknur\\n',\n",
       " 'akol\\n',\n",
       " 'akozan\\n',\n",
       " 'akonder\\n',\n",
       " 'akoren\\n',\n",
       " 'akoz\\n',\n",
       " 'akpay\\n',\n",
       " 'akpinar\\n',\n",
       " 'akpolat\\n',\n",
       " 'akpulat\\n',\n",
       " 'aksal\\n',\n",
       " 'aksan\\n',\n",
       " 'aksari\\n',\n",
       " 'aksay\\n',\n",
       " 'aksel\\n',\n",
       " 'aksen\\n',\n",
       " 'akser\\n',\n",
       " 'akses\\n',\n",
       " 'akseven\\n',\n",
       " 'aksevil\\n',\n",
       " 'aksin\\n',\n",
       " 'aksoy\\n',\n",
       " 'aksogut\\n',\n",
       " 'aksu\\n',\n",
       " 'aksun\\n',\n",
       " 'aksuna\\n',\n",
       " 'aksunar\\n',\n",
       " 'aksuner\\n',\n",
       " 'aksungur\\n',\n",
       " 'aksulun\\n',\n",
       " 'aksuyek\\n',\n",
       " 'aksin\\n',\n",
       " 'aksit\\n',\n",
       " 'aktac\\n',\n",
       " 'aktalay\\n',\n",
       " 'aktan\\n',\n",
       " 'aktar\\n',\n",
       " 'aktas\\n',\n",
       " 'aktay\\n',\n",
       " 'aktekin\\n',\n",
       " 'aktemur\\n',\n",
       " 'akti\\n',\n",
       " 'aktimur\\n',\n",
       " 'aktolga\\n',\n",
       " 'aktolun\\n',\n",
       " 'aktug\\n',\n",
       " 'aktuna\\n',\n",
       " 'aktunc\\n',\n",
       " 'aktun\\n',\n",
       " 'akturk\\n',\n",
       " 'akun\\n',\n",
       " 'akunal\\n',\n",
       " 'akvarol\\n',\n",
       " 'akyel\\n',\n",
       " 'akyildiz\\n',\n",
       " 'akyigit\\n',\n",
       " 'akyipek\\n',\n",
       " 'akyol\\n',\n",
       " 'akyon\\n',\n",
       " 'akyurt\\n',\n",
       " 'akyurek\\n',\n",
       " 'akyuz\\n',\n",
       " 'ala\\n',\n",
       " 'alaaddin\\n',\n",
       " 'alaca\\n',\n",
       " 'alacan\\n',\n",
       " 'alacam\\n',\n",
       " 'alacuk\\n',\n",
       " 'aladogan\\n',\n",
       " 'alageyik\\n',\n",
       " 'alagoz\\n',\n",
       " 'alagun\\n',\n",
       " 'alahan\\n',\n",
       " 'alakiz\\n',\n",
       " 'alakoc\\n',\n",
       " 'alakurt\\n',\n",
       " 'alakus\\n',\n",
       " 'alamet\\n',\n",
       " 'alan\\n',\n",
       " 'alanalp\\n',\n",
       " 'alanay\\n',\n",
       " 'alanbay\\n',\n",
       " 'alaner\\n',\n",
       " 'alangoya\\n',\n",
       " 'alangu\\n',\n",
       " 'alanur\\n',\n",
       " 'alapinar\\n',\n",
       " 'alat\\n',\n",
       " 'alatan\\n',\n",
       " 'alatas\\n',\n",
       " 'alatay\\n',\n",
       " 'alay\\n',\n",
       " 'alaybey\\n',\n",
       " 'alayunt\\n',\n",
       " 'alaz\\n',\n",
       " 'albayrak\\n',\n",
       " 'albeni\\n',\n",
       " 'albora\\n',\n",
       " 'alburak\\n',\n",
       " 'alcan\\n',\n",
       " 'alcik\\n',\n",
       " 'alcin\\n',\n",
       " 'alcinsu\\n',\n",
       " 'alcicek\\n',\n",
       " 'alcin\\n',\n",
       " 'aldemir\\n',\n",
       " 'aldeniz\\n',\n",
       " 'aldogan\\n',\n",
       " 'alem\\n',\n",
       " 'alemdar\\n',\n",
       " 'alemsah\\n',\n",
       " 'lemsah\\n',\n",
       " 'lemtap\\n',\n",
       " 'alev\\n',\n",
       " 'alevnaz\\n',\n",
       " 'algan\\n',\n",
       " 'algin\\n',\n",
       " 'algis\\n',\n",
       " 'algu\\n',\n",
       " 'algun\\n',\n",
       " 'algur\\n',\n",
       " 'algul\\n',\n",
       " 'algun\\n',\n",
       " 'alhan\\n',\n",
       " 'alici\\n',\n",
       " 'alim\\n',\n",
       " 'alimli\\n',\n",
       " 'alincak\\n',\n",
       " 'alisik\\n',\n",
       " 'alisin\\n',\n",
       " 'ali\\n',\n",
       " 'alican\\n',\n",
       " 'alihan\\n',\n",
       " 'alika\\n',\n",
       " 'alim\\n',\n",
       " 'alime\\n',\n",
       " 'alipek\\n',\n",
       " 'alisa\\n',\n",
       " 'alise\\n',\n",
       " 'alis\\n',\n",
       " 'alisah\\n',\n",
       " 'alisan\\n',\n",
       " 'aliyar\\n',\n",
       " 'aliye\\n',\n",
       " 'alkan\\n',\n",
       " 'alkas\\n',\n",
       " 'alkilic\\n',\n",
       " 'alkim\\n',\n",
       " 'alkin\\n',\n",
       " 'alkis\\n',\n",
       " 'alkoc\\n',\n",
       " 'alkor\\n',\n",
       " 'alkoz\\n',\n",
       " 'alkun\\n',\n",
       " 'allahverdi\\n',\n",
       " 'alli\\n',\n",
       " 'allikiz\\n',\n",
       " 'almagul\\n',\n",
       " 'almila\\n',\n",
       " 'almila\\n',\n",
       " 'almile\\n',\n",
       " 'almula\\n',\n",
       " 'alnar\\n',\n",
       " 'alniacik\\n',\n",
       " 'alniak\\n',\n",
       " 'alp\\n',\n",
       " 'alpagu\\n',\n",
       " 'alpagan\\n',\n",
       " 'alpak\\n',\n",
       " 'alpar\\n',\n",
       " 'alparslan\\n',\n",
       " 'alpartun\\n',\n",
       " 'alpaslan\\n',\n",
       " 'alpat\\n',\n",
       " 'alpata\\n',\n",
       " 'alpay\\n',\n",
       " 'alpaydin\\n',\n",
       " 'alpayer\\n',\n",
       " 'alpbilge\\n',\n",
       " 'alpcetin\\n',\n",
       " 'alpdemir\\n',\n",
       " 'alpdogan\\n',\n",
       " 'alper\\n',\n",
       " 'alperen\\n',\n",
       " 'alpergin\\n',\n",
       " 'alpermis\\n',\n",
       " 'alpertunga\\n',\n",
       " 'alpgiray\\n',\n",
       " 'alphan\\n',\n",
       " 'alpkan\\n',\n",
       " 'alpkanat\\n',\n",
       " 'alpkartal\\n',\n",
       " 'alpkin\\n',\n",
       " 'alpkutlu\\n',\n",
       " 'alpkuluk\\n',\n",
       " 'alpman\\n',\n",
       " 'alpnur\\n',\n",
       " 'alpogan\\n',\n",
       " 'alpsoy\\n',\n",
       " 'alpsu\\n',\n",
       " 'alptekin\\n',\n",
       " 'alptogan\\n',\n",
       " 'alptug\\n',\n",
       " 'alpyurek\\n',\n",
       " 'alpyuruk\\n',\n",
       " 'alsan\\n',\n",
       " 'alsancak\\n',\n",
       " 'alsevin\\n',\n",
       " 'alsoy\\n',\n",
       " 'alsu\\n',\n",
       " 'altac\\n',\n",
       " 'altan\\n',\n",
       " 'altaner\\n',\n",
       " 'altas\\n',\n",
       " 'altav\\n',\n",
       " 'altay\\n',\n",
       " 'altemur\\n',\n",
       " 'alten\\n',\n",
       " 'altin\\n',\n",
       " 'altinay\\n',\n",
       " 'altinbaran\\n',\n",
       " 'altinbas\\n',\n",
       " 'altinbasak\\n',\n",
       " 'altinbay\\n',\n",
       " 'altinbike\\n',\n",
       " 'altincicek\\n',\n",
       " 'altindal\\n',\n",
       " 'altinel\\n',\n",
       " 'altiner\\n',\n",
       " 'altingul\\n',\n",
       " 'altinhan\\n',\n",
       " 'altinhanim\\n',\n",
       " 'altinhatun\\n',\n",
       " 'altinisik\\n',\n",
       " 'altinisin\\n',\n",
       " 'altiniz\\n',\n",
       " 'altinkaya\\n',\n",
       " 'altinkilic\\n',\n",
       " 'altinkiz\\n',\n",
       " 'altinnur\\n',\n",
       " 'altinok\\n',\n",
       " 'altinoz\\n',\n",
       " 'altinsac\\n',\n",
       " 'altinsoy\\n',\n",
       " 'altintac\\n',\n",
       " 'altintas\\n',\n",
       " 'altintop\\n',\n",
       " 'altintug\\n',\n",
       " 'altogan\\n',\n",
       " 'altop\\n',\n",
       " 'altug\\n',\n",
       " 'altun\\n',\n",
       " 'altuna\\n',\n",
       " 'altunay\\n',\n",
       " 'altunbas\\n',\n",
       " 'altuncan\\n',\n",
       " 'altunc\\n',\n",
       " 'altuncag\\n',\n",
       " 'altuner\\n',\n",
       " 'altunhan\\n',\n",
       " 'altuntas\\n',\n",
       " 'alyipek\\n',\n",
       " 'amac\\n',\n",
       " 'amanullah\\n',\n",
       " 'amber\\n',\n",
       " 'amil\\n',\n",
       " 'amile\\n',\n",
       " 'amine\\n',\n",
       " 'amir\\n',\n",
       " 'amiran\\n',\n",
       " 'amire\\n',\n",
       " 'amre\\n',\n",
       " 'anadolu\\n',\n",
       " 'anahanim\\n',\n",
       " 'anakadin\\n',\n",
       " 'anakiz\\n',\n",
       " 'anar\\n',\n",
       " 'anargul\\n',\n",
       " 'anber\\n',\n",
       " 'anci\\n',\n",
       " 'ancibay\\n',\n",
       " 'andac\\n',\n",
       " 'andak\\n',\n",
       " 'andelip\\n',\n",
       " 'andic\\n',\n",
       " 'andic\\n',\n",
       " 'angi\\n',\n",
       " 'angil\\n',\n",
       " 'angin\\n',\n",
       " 'angis\\n',\n",
       " 'angit\\n',\n",
       " 'ani\\n',\n",
       " 'anik\\n',\n",
       " 'anil\\n',\n",
       " 'anit\\n',\n",
       " 'anka\\n',\n",
       " 'anli\\n',\n",
       " 'annak\\n',\n",
       " 'ant\\n',\n",
       " 'apa\\n',\n",
       " 'apak\\n',\n",
       " 'apakhan\\n',\n",
       " 'apaydin\\n',\n",
       " 'araci\\n',\n",
       " 'arafat\\n',\n",
       " 'aral\\n',\n",
       " 'aran\\n',\n",
       " 'aras\\n',\n",
       " 'arat\\n',\n",
       " 'araz\\n',\n",
       " 'arbas\\n',\n",
       " 'arbay\\n',\n",
       " 'arbek\\n',\n",
       " 'arca\\n',\n",
       " 'arcan\\n',\n",
       " 'arda\\n',\n",
       " 'ardahan\\n',\n",
       " 'ardemir\\n',\n",
       " 'ardic\\n',\n",
       " 'ardil\\n',\n",
       " 'arefe\\n',\n",
       " 'arel\\n',\n",
       " 'arer\\n',\n",
       " 'argana\\n',\n",
       " 'argin\\n',\n",
       " 'argu\\n',\n",
       " 'arguc\\n',\n",
       " 'arguden\\n',\n",
       " 'arguder\\n',\n",
       " 'argun\\n',\n",
       " 'arhan\\n',\n",
       " 'ari\\n',\n",
       " 'aribal\\n',\n",
       " 'aribas\\n',\n",
       " 'ariboga\\n',\n",
       " 'arica\\n',\n",
       " 'arican\\n',\n",
       " 'aric\\n',\n",
       " 'ariel\\n',\n",
       " 'arier\\n',\n",
       " 'arig\\n',\n",
       " 'arihan\\n',\n",
       " 'arik\\n',\n",
       " 'arikal\\n',\n",
       " 'arikan\\n',\n",
       " 'arikboga\\n',\n",
       " 'ariker\\n',\n",
       " 'arikhan\\n',\n",
       " 'arikiz\\n',\n",
       " 'arikol\\n',\n",
       " 'arikut\\n',\n",
       " 'aril\\n',\n",
       " 'ariman\\n',\n",
       " 'arin\\n',\n",
       " 'arinc\\n',\n",
       " 'arinik\\n',\n",
       " 'aripinar\\n',\n",
       " 'arisal\\n',\n",
       " 'arisan\\n',\n",
       " 'arisoy\\n',\n",
       " 'arisu\\n',\n",
       " 'aris\\n',\n",
       " 'aritan\\n',\n",
       " 'aritas\\n',\n",
       " 'ariyuz\\n',\n",
       " 'ari\\n',\n",
       " 'arif\\n',\n",
       " 'arife\\n',\n",
       " 'arik\\n',\n",
       " 'arkadas\\n',\n",
       " 'arkan\\n',\n",
       " 'arkay\\n',\n",
       " 'arkin\\n',\n",
       " 'arkis\\n',\n",
       " 'arkoc\\n',\n",
       " 'arkun\\n',\n",
       " 'arkut\\n',\n",
       " 'arlan\\n',\n",
       " 'armagan\\n',\n",
       " 'arman\\n',\n",
       " 'armanc\\n',\n",
       " 'arna\\n',\n",
       " 'arol\\n',\n",
       " 'arpad\\n',\n",
       " 'arpag\\n',\n",
       " 'arpak\\n',\n",
       " 'arpinar\\n',\n",
       " 'arsal\\n',\n",
       " 'arsan\\n',\n",
       " 'arslan\\n',\n",
       " 'arslaner\\n',\n",
       " 'arsoy\\n',\n",
       " 'artac\\n',\n",
       " 'artam\\n',\n",
       " 'artan\\n',\n",
       " 'artik\\n',\n",
       " 'artuc\\n',\n",
       " 'artuk\\n',\n",
       " 'artun\\n',\n",
       " 'artunc\\n',\n",
       " 'artut\\n',\n",
       " 'aru\\n',\n",
       " 'arukan\\n',\n",
       " 'arukiz\\n',\n",
       " 'aryuz\\n',\n",
       " 'arzik\\n',\n",
       " 'arziye\\n',\n",
       " 'arzu\\n',\n",
       " 'arzugul\\n',\n",
       " 'arzuhan\\n',\n",
       " 'arzum\\n',\n",
       " 'asaf\\n',\n",
       " 'asal\\n',\n",
       " 'asalbegim\\n',\n",
       " 'asalbegum\\n',\n",
       " 'asalet\\n',\n",
       " 'asan\\n',\n",
       " 'san\\n',\n",
       " 'asena\\n',\n",
       " 'asfer\\n',\n",
       " 'asi\\n',\n",
       " 'asif\\n',\n",
       " 'asilbanu\\n',\n",
       " 'asilgul\\n',\n",
       " 'asim\\n',\n",
       " 'asima\\n',\n",
       " 'asil\\n',\n",
       " 'asile\\n',\n",
       " 'asime\\n',\n",
       " 'asimegul\\n',\n",
       " 'asiye\\n',\n",
       " 'aslan\\n',\n",
       " 'aslaner\\n',\n",
       " 'aslanhan\\n',\n",
       " 'asli\\n',\n",
       " 'aslibey\\n',\n",
       " 'asligul\\n',\n",
       " 'aslihan\\n',\n",
       " 'aslim\\n',\n",
       " 'aslinur\\n',\n",
       " 'asliye\\n',\n",
       " 'asma\\n',\n",
       " 'asri\\n',\n",
       " 'asu\\n',\n",
       " 'asude\\n',\n",
       " 'asuman\\n',\n",
       " 'asutay\\n',\n",
       " 'asya\\n',\n",
       " 'asye\\n',\n",
       " 'asa\\n',\n",
       " 'asan\\n',\n",
       " 'ascir\\n',\n",
       " 'asir\\n',\n",
       " 'asina\\n',\n",
       " 'asir\\n',\n",
       " 'askan\\n',\n",
       " 'askim\\n',\n",
       " 'askin\\n',\n",
       " 'askinay\\n',\n",
       " 'askiner\\n',\n",
       " 'ata\\n',\n",
       " 'ata\\n',\n",
       " 'ataan\\n',\n",
       " 'atacan\\n',\n",
       " 'atac\\n',\n",
       " 'atadan\\n',\n",
       " 'ataergin\\n',\n",
       " 'atagul\\n',\n",
       " 'atagun\\n',\n",
       " 'atahan\\n',\n",
       " 'atak\\n',\n",
       " 'atakan\\n',\n",
       " 'ataker\\n',\n",
       " 'atakul\\n',\n",
       " 'atakurt\\n',\n",
       " 'atakut\\n',\n",
       " 'atalan\\n',\n",
       " 'atalay\\n',\n",
       " 'atalmis\\n',\n",
       " 'ataman\\n',\n",
       " 'atambay\\n',\n",
       " 'atamer\\n',\n",
       " 'atamturk\\n',\n",
       " 'ataner\\n',\n",
       " 'atanur\\n',\n",
       " 'ataol\\n',\n",
       " 'ataov\\n',\n",
       " 'atasagun\\n',\n",
       " 'atasan\\n',\n",
       " 'atasay\\n',\n",
       " 'atasev\\n',\n",
       " 'ataseven\\n',\n",
       " 'atasever\\n',\n",
       " 'atasevin\\n',\n",
       " 'atasoy\\n',\n",
       " 'atasu\\n',\n",
       " 'atatore\\n',\n",
       " 'atatug\\n',\n",
       " 'atature\\n',\n",
       " 'ataturk\\n',\n",
       " 'ataullah\\n',\n",
       " 'ataun\\n',\n",
       " 'atay\\n',\n",
       " 'ates\\n',\n",
       " 'atfi\\n',\n",
       " 'atgun\\n',\n",
       " 'atif\\n',\n",
       " 'atifa\\n',\n",
       " ...]"
      ]
     },
     "execution_count": 2,
     "metadata": {},
     "output_type": "execute_result"
    }
   ],
   "source": [
    "names"
   ]
  },
  {
   "cell_type": "markdown",
   "metadata": {
    "id": "L610v2fZ_dt-"
   },
   "source": [
    "# Prepare Data"
   ]
  },
  {
   "cell_type": "markdown",
   "metadata": {
    "id": "dxA9JCR6AN_t"
   },
   "source": [
    "## Tokenizer"
   ]
  },
  {
   "cell_type": "code",
   "execution_count": 3,
   "metadata": {
    "id": "LJqvQFJBARGX"
   },
   "outputs": [],
   "source": [
    "import tensorflow as tf\n",
    "import numpy as np"
   ]
  },
  {
   "cell_type": "code",
   "execution_count": 4,
   "metadata": {
    "id": "DpiJJ8BX_EQH"
   },
   "outputs": [],
   "source": [
    "# create tokenizer\n",
    "tokenizer = tf.keras.preprocessing.text.Tokenizer(\n",
    "    filters='!\"#$%&()*+,-./:;<=>?@[\\\\]^_`{|}~'\n",
    ")"
   ]
  },
  {
   "cell_type": "code",
   "execution_count": 5,
   "metadata": {
    "id": "GYq6qisRArlV"
   },
   "outputs": [],
   "source": [
    "# fit in data\n",
    "tokenizer.fit_on_texts(\"\".join(names))"
   ]
  },
  {
   "cell_type": "code",
   "execution_count": 6,
   "metadata": {
    "colab": {
     "base_uri": "https://localhost:8080/"
    },
    "id": "7iRdUjmYAr3J",
    "outputId": "582c993d-8f3c-40e1-a39a-9e5ec525bd52"
   },
   "outputs": [
    {
     "name": "stdout",
     "output_type": "stream",
     "text": [
      "{1: '\\n', 2: 'a', 3: 'e', 4: 'i', 5: 'n', 6: 'u', 7: 'r', 8: 'l', 9: 's', 10: 'k', 11: 't', 12: 'm', 13: 'y', 14: 'g', 15: 'd', 16: 'b', 17: 'o', 18: 'h', 19: 'c', 20: 'z', 21: 'f', 22: 'v', 23: 'p', 24: 'j'}\n"
     ]
    }
   ],
   "source": [
    "char_to_index = tokenizer.word_index\n",
    "index_to_char = dict((v, k) for k, v in char_to_index.items())\n",
    "\n",
    "print(index_to_char)"
   ]
  },
  {
   "cell_type": "markdown",
   "metadata": {
    "id": "hC7y5qHABZWm"
   },
   "source": [
    "## Seq to Name and Name to Seq"
   ]
  },
  {
   "cell_type": "code",
   "execution_count": 7,
   "metadata": {
    "id": "JfYa8Cv6BJW_"
   },
   "outputs": [],
   "source": [
    "def name_to_seq(name):\n",
    "    return [tokenizer.texts_to_sequences(ch)[0][0] for ch in name]"
   ]
  },
  {
   "cell_type": "code",
   "execution_count": 8,
   "metadata": {
    "id": "HOYH6xrYB22P"
   },
   "outputs": [],
   "source": [
    "def seq_to_name(seq):\n",
    "    return \"\".join([index_to_char[i] for i in seq])"
   ]
  },
  {
   "cell_type": "code",
   "execution_count": 9,
   "metadata": {
    "colab": {
     "base_uri": "https://localhost:8080/"
    },
    "id": "EgEMEBBkDeD2",
    "outputId": "59cd5ca7-2b2a-4eb8-b8b5-5ba765a21128"
   },
   "outputs": [
    {
     "name": "stdout",
     "output_type": "stream",
     "text": [
      "15\n"
     ]
    }
   ],
   "source": [
    "# find max len\n",
    "max_len = max([len(name) for name in names])\n",
    "print(max_len)"
   ]
  },
  {
   "cell_type": "code",
   "execution_count": 10,
   "metadata": {
    "colab": {
     "base_uri": "https://localhost:8080/"
    },
    "id": "EObvQ8vnEbEl",
    "outputId": "816faad7-c10d-4f36-d17b-ef38539ca271"
   },
   "outputs": [
    {
     "name": "stdout",
     "output_type": "stream",
     "text": [
      "25\n"
     ]
    }
   ],
   "source": [
    "# find number of characters\n",
    "num_chars = len(char_to_index) + 1 # +1 is null character(0)\n",
    "print(num_chars)"
   ]
  },
  {
   "cell_type": "markdown",
   "metadata": {},
   "source": [
    "# 2) TRAIN MODEL (Optional)"
   ]
  },
  {
   "cell_type": "markdown",
   "metadata": {
    "id": "IwyOc8jHCrfn"
   },
   "source": [
    "## Create sequences and pad sequences to same length"
   ]
  },
  {
   "cell_type": "code",
   "execution_count": 63,
   "metadata": {
    "colab": {
     "base_uri": "https://localhost:8080/"
    },
    "id": "tZMkNM60CwNV",
    "outputId": "bee6e2a1-0020-4109-8b5b-8fdd027c66d8"
   },
   "outputs": [
    {
     "name": "stdout",
     "output_type": "stream",
     "text": [
      "79755\n"
     ]
    },
    {
     "data": {
      "text/plain": [
       "[[2, 16],\n",
       " [2, 16, 2],\n",
       " [2, 16, 2, 1],\n",
       " [2, 16],\n",
       " [2, 16, 2],\n",
       " [2, 16, 2, 19],\n",
       " [2, 16, 2, 19, 2],\n",
       " [2, 16, 2, 19, 2, 1],\n",
       " [2, 16],\n",
       " [2, 16, 2]]"
      ]
     },
     "execution_count": 63,
     "metadata": {},
     "output_type": "execute_result"
    }
   ],
   "source": [
    "# create sequences\n",
    "sequences = []\n",
    "\n",
    "for name in names:\n",
    "    seq = name_to_seq(name)\n",
    "    if len(seq) >= 2:\n",
    "        sequences += [seq[:i] for i in range(2, len(seq) + 1)]\n",
    "\n",
    "print(len(sequences))\n",
    "sequences[:10]"
   ]
  },
  {
   "cell_type": "code",
   "execution_count": 96,
   "metadata": {
    "colab": {
     "base_uri": "https://localhost:8080/"
    },
    "id": "Zplz438-Cv8u",
    "outputId": "fc18b6ea-721a-46e6-d60d-d651abc7b345"
   },
   "outputs": [
    {
     "data": {
      "text/plain": [
       "array([ 0,  0,  0,  0,  0,  0,  0,  0,  0,  0,  0,  0,  0,  2, 16])"
      ]
     },
     "execution_count": 96,
     "metadata": {},
     "output_type": "execute_result"
    }
   ],
   "source": [
    "# pad sequences (padding pre because in padded sequences last character will be label)\n",
    "padded_sequences = tf.keras.preprocessing.sequence.pad_sequences(\n",
    "    sequences, maxlen=max_len, padding=\"pre\"\n",
    ")\n",
    "\n",
    "padded_sequences[0]"
   ]
  },
  {
   "cell_type": "code",
   "execution_count": 97,
   "metadata": {
    "colab": {
     "base_uri": "https://localhost:8080/"
    },
    "id": "-ScajY_sCvy3",
    "outputId": "09bef18a-026f-4260-f35a-bb159fe4645f"
   },
   "outputs": [
    {
     "name": "stdout",
     "output_type": "stream",
     "text": [
      "(79755, 14) (79755,)\n"
     ]
    }
   ],
   "source": [
    "# create X and y data\n",
    "X = padded_sequences[:, :-1]\n",
    "y = padded_sequences[:, -1]\n",
    "\n",
    "print(X.shape, y.shape)"
   ]
  },
  {
   "cell_type": "markdown",
   "metadata": {
    "id": "0Wf4JTUSBPUD"
   },
   "source": [
    "# Train Test Split"
   ]
  },
  {
   "cell_type": "code",
   "execution_count": 35,
   "metadata": {
    "id": "Wcwb3pD4D_yW"
   },
   "outputs": [],
   "source": [
    "from sklearn.model_selection import train_test_split"
   ]
  },
  {
   "cell_type": "code",
   "execution_count": 41,
   "metadata": {
    "colab": {
     "base_uri": "https://localhost:8080/"
    },
    "id": "ajka8_jLBOr8",
    "outputId": "824cbca5-5061-4d8c-dc51-b31733fee2bc"
   },
   "outputs": [
    {
     "name": "stdout",
     "output_type": "stream",
     "text": [
      "(13780, 26) (4594, 26)\n"
     ]
    }
   ],
   "source": [
    "X_train, X_test, y_train, y_test = train_test_split(X, y)\n",
    "\n",
    "print(X_train.shape, X_test.shape)"
   ]
  },
  {
   "cell_type": "markdown",
   "metadata": {
    "id": "7IpuexoW_hyg"
   },
   "source": [
    "# Create Model"
   ]
  },
  {
   "cell_type": "code",
   "execution_count": 39,
   "metadata": {
    "id": "_ve1vqUTEqKo"
   },
   "outputs": [],
   "source": [
    "from tensorflow.keras.models import Sequential\n",
    "from tensorflow.keras.layers import Embedding, Conv1D, MaxPool1D, LSTM, Dense"
   ]
  },
  {
   "cell_type": "code",
   "execution_count": 40,
   "metadata": {
    "id": "RZL9IGTD_EZy"
   },
   "outputs": [],
   "source": [
    "# create model\n",
    "model = Sequential([\n",
    "                    Embedding(num_chars, 8, input_length=max_len-1),\n",
    "                    # causal because future character should not affect prediction\n",
    "                    Conv1D(64, 3, strides=1, activation=\"tanh\", padding=\"causal\"), \n",
    "                    MaxPool1D(2),\n",
    "                    LSTM(64),\n",
    "                    Dense(num_chars, activation=\"softmax\")\n",
    "])\n",
    "\n",
    "# compile model\n",
    "model.compile(\n",
    "    loss=\"sparse_categorical_crossentropy\",\n",
    "    optimizer=\"adam\",\n",
    "    metrics=[\"accuracy\"]\n",
    ")"
   ]
  },
  {
   "cell_type": "markdown",
   "metadata": {
    "id": "njJsI2bw_kbw"
   },
   "source": [
    "# Train Model"
   ]
  },
  {
   "cell_type": "code",
   "execution_count": 42,
   "metadata": {
    "colab": {
     "base_uri": "https://localhost:8080/"
    },
    "id": "ARf4pjas_Ehz",
    "outputId": "17053a4d-4bb6-4213-8d8a-6c97986d8b60"
   },
   "outputs": [
    {
     "name": "stdout",
     "output_type": "stream",
     "text": [
      "Epoch 1/50\n",
      "431/431 - 8s - loss: 2.5099 - accuracy: 0.2576 - val_loss: 2.1365 - val_accuracy: 0.3722\n",
      "Epoch 2/50\n",
      "431/431 - 5s - loss: 2.0333 - accuracy: 0.4077 - val_loss: 1.9468 - val_accuracy: 0.4288\n",
      "Epoch 3/50\n",
      "431/431 - 5s - loss: 1.8504 - accuracy: 0.4561 - val_loss: 1.8208 - val_accuracy: 0.4636\n",
      "Epoch 4/50\n",
      "431/431 - 5s - loss: 1.7628 - accuracy: 0.4806 - val_loss: 1.7712 - val_accuracy: 0.4743\n",
      "Epoch 5/50\n",
      "431/431 - 5s - loss: 1.7117 - accuracy: 0.4925 - val_loss: 1.7260 - val_accuracy: 0.4817\n",
      "Epoch 6/50\n",
      "431/431 - 5s - loss: 1.6735 - accuracy: 0.4993 - val_loss: 1.7028 - val_accuracy: 0.4887\n",
      "Epoch 7/50\n",
      "431/431 - 5s - loss: 1.6398 - accuracy: 0.5113 - val_loss: 1.6849 - val_accuracy: 0.4978\n",
      "Epoch 8/50\n",
      "431/431 - 5s - loss: 1.6139 - accuracy: 0.5168 - val_loss: 1.6691 - val_accuracy: 0.5026\n",
      "Epoch 9/50\n",
      "431/431 - 5s - loss: 1.5866 - accuracy: 0.5257 - val_loss: 1.6518 - val_accuracy: 0.5041\n",
      "Epoch 10/50\n",
      "431/431 - 5s - loss: 1.5590 - accuracy: 0.5318 - val_loss: 1.6379 - val_accuracy: 0.5141\n",
      "Epoch 11/50\n",
      "431/431 - 5s - loss: 1.5334 - accuracy: 0.5398 - val_loss: 1.6286 - val_accuracy: 0.5200\n",
      "Epoch 12/50\n",
      "431/431 - 5s - loss: 1.5090 - accuracy: 0.5468 - val_loss: 1.6185 - val_accuracy: 0.5178\n",
      "Epoch 13/50\n",
      "431/431 - 5s - loss: 1.4856 - accuracy: 0.5556 - val_loss: 1.6193 - val_accuracy: 0.5174\n",
      "Epoch 14/50\n",
      "431/431 - 5s - loss: 1.4629 - accuracy: 0.5607 - val_loss: 1.6042 - val_accuracy: 0.5194\n"
     ]
    }
   ],
   "source": [
    "h = model.fit(\n",
    "    X_train, y_train,\n",
    "    epochs=50, verbose=2,\n",
    "    validation_data=(X_test, y_test),\n",
    "    callbacks=[\n",
    "               tf.keras.callbacks.EarlyStopping(monitor=\"val_accuracy\", patience=3)\n",
    "    ]\n",
    ")"
   ]
  },
  {
   "cell_type": "code",
   "execution_count": 44,
   "metadata": {
    "colab": {
     "base_uri": "https://localhost:8080/",
     "height": 500
    },
    "id": "T4ypRUVuGUJT",
    "outputId": "cea00d33-50d0-45e0-f138-2a00a44766f6"
   },
   "outputs": [
    {
     "data": {
      "text/plain": [
       "<matplotlib.legend.Legend at 0x7fba45f62e50>"
      ]
     },
     "execution_count": 44,
     "metadata": {
      "tags": []
     },
     "output_type": "execute_result"
    },
    {
     "data": {
      "image/png": "[encoded data removed]",
      "text/plain": [
       "<Figure size 720x576 with 1 Axes>"
      ]
     },
     "metadata": {
      "needs_background": "light",
      "tags": []
     },
     "output_type": "display_data"
    }
   ],
   "source": [
    "# visualize training\n",
    "import matplotlib.pyplot as plt\n",
    "\n",
    "plt.figure(figsize=(10, 8))\n",
    "\n",
    "num_epochs = len(h.history[\"loss\"])\n",
    "plt.plot(range(num_epochs), h.history[\"val_accuracy\"], label=\"validation accuracy\")\n",
    "plt.plot(range(num_epochs), h.history[\"accuracy\"], label=\"training accuracy\")\n",
    "plt.legend()"
   ]
  },
  {
   "cell_type": "code",
   "execution_count": 82,
   "metadata": {
    "id": "LGspliqWJng-"
   },
   "outputs": [],
   "source": [
    "# save the model\n",
    "model.save(\"data/tr_name_generate_model.h5\")"
   ]
  },
  {
   "cell_type": "markdown",
   "metadata": {},
   "source": [
    "# 3) TEST MODEL"
   ]
  },
  {
   "cell_type": "markdown",
   "metadata": {},
   "source": [
    "## Load Model"
   ]
  },
  {
   "cell_type": "code",
   "execution_count": 11,
   "metadata": {},
   "outputs": [],
   "source": [
    "model = tf.keras.models.load_model(\"model/tr_name_generate_model.h5\")"
   ]
  },
  {
   "cell_type": "markdown",
   "metadata": {
    "id": "R0SmG0tu_re2"
   },
   "source": [
    "## Create Turkish Names"
   ]
  },
  {
   "cell_type": "code",
   "execution_count": 12,
   "metadata": {
    "id": "wel09p43HyuB"
   },
   "outputs": [],
   "source": [
    "def generate_names(seed=\"\"):\n",
    "    \"\"\"Gets a seed (char or string)\n",
    "    \n",
    "    In a loop, predicts next chars and appends them to seed\n",
    "    Next chars are chosen using probabilities to create different names each time\n",
    "    \n",
    "    Returns created name\"\"\"\n",
    "    \n",
    "    for i in range(40):\n",
    "        # prepare sequence\n",
    "        seq = name_to_seq(seed)\n",
    "        padded = tf.keras.preprocessing.sequence.pad_sequences([seq], maxlen=max_len-1,\n",
    "                                                               padding=\"pre\", \n",
    "                                                               truncating=\"pre\")\n",
    "        \n",
    "        # predict next char\n",
    "        probs = model.predict(padded)[0]\n",
    "        index = np.random.choice(list(range(num_chars)), p=probs.ravel())\n",
    "\n",
    "        if index == 0:\n",
    "            break\n",
    "\n",
    "        pred_char = index_to_char[index]\n",
    "        seed += pred_char\n",
    "\n",
    "        if pred_char == \"\\n\":\n",
    "            break\n",
    "\n",
    "    return seed"
   ]
  },
  {
   "cell_type": "code",
   "execution_count": 13,
   "metadata": {},
   "outputs": [],
   "source": [
    "def is_real_name(name):\n",
    "    \"\"\"checks whether created name is in names dataset or not\"\"\"\n",
    "    for real_name in names:\n",
    "        if name == real_name:\n",
    "            return True\n",
    "    return False"
   ]
  },
  {
   "cell_type": "code",
   "execution_count": 14,
   "metadata": {
    "colab": {
     "base_uri": "https://localhost:8080/",
     "height": 35
    },
    "id": "VXECe-pkHy2v",
    "outputId": "bb5e1b2b-2f96-45ea-8bfc-a50632f8af9f"
   },
   "outputs": [
    {
     "name": "stdout",
     "output_type": "stream",
     "text": [
      "ebari\n",
      "\n"
     ]
    }
   ],
   "source": [
    "# create a turkish name\n",
    "created = generate_names(seed=\"\")\n",
    "print(created)"
   ]
  },
  {
   "cell_type": "code",
   "execution_count": 15,
   "metadata": {
    "colab": {
     "base_uri": "https://localhost:8080/"
    },
    "id": "CtCFdJMe_ExW",
    "outputId": "bde24e85-0d29-4080-ea5a-7d1e2ee79945"
   },
   "outputs": [
    {
     "name": "stdout",
     "output_type": "stream",
     "text": [
      "altan\n",
      "\n",
      "adulkan\n",
      "\n",
      "uluenman\n",
      "\n",
      "akdagol\n",
      "\n",
      "aran\n",
      "\n",
      "ugurserk\n",
      "\n",
      "ozullal\n",
      "\n",
      "erbahir\n",
      "\n",
      "olaytul\n",
      "\n",
      "ulucah\n",
      "\n"
     ]
    }
   ],
   "source": [
    "# create 10 turkish names\n",
    "for i in range(10):\n",
    "    created = generate_names(seed=\"\")\n",
    "    print(created)"
   ]
  },
  {
   "cell_type": "code",
   "execution_count": 27,
   "metadata": {
    "scrolled": true
   },
   "outputs": [
    {
     "name": "stdout",
     "output_type": "stream",
     "text": [
      "gulsen\n",
      "\n",
      "gulyeme\n",
      "\n",
      "gucelbal\n",
      "\n",
      "gungum\n",
      "\n",
      "gulhan\n",
      "\n"
     ]
    }
   ],
   "source": [
    "# you can seed initial characters\n",
    "seed = \"g\"\n",
    "for i in range(5):\n",
    "    created = generate_names(seed=seed)\n",
    "    print(created)"
   ]
  },
  {
   "cell_type": "code",
   "execution_count": 33,
   "metadata": {},
   "outputs": [
    {
     "name": "stdout",
     "output_type": "stream",
     "text": [
      "asmac\n",
      "\n",
      "asirye\n",
      "\n",
      "asabey\n",
      "\n",
      "asilcan\n",
      "\n",
      "asum\n",
      "\n"
     ]
    }
   ],
   "source": [
    "# create unseen names\n",
    "seed = \"as\"\n",
    "i = 0\n",
    "name_count = 5\n",
    "\n",
    "while i < name_count:\n",
    "    created = generate_names(seed=seed)\n",
    "    \n",
    "    if is_real_name(created):\n",
    "        continue\n",
    "    else:\n",
    "        print(created)\n",
    "        i += 1"
   ]
  },
  {
   "cell_type": "code",
   "execution_count": 34,
   "metadata": {},
   "outputs": [
    {
     "data": {
      "text/plain": [
       "False"
      ]
     },
     "execution_count": 34,
     "metadata": {},
     "output_type": "execute_result"
    }
   ],
   "source": [
    "# check whether a created name is real or not\n",
    "is_real_name(\"alinaz\")"
   ]
  },
  {
   "cell_type": "code",
   "execution_count": null,
   "metadata": {},
   "outputs": [],
   "source": []
  },
  {
   "cell_type": "code",
   "execution_count": null,
   "metadata": {},
   "outputs": [],
   "source": []
  },
  {
   "cell_type": "code",
   "execution_count": null,
   "metadata": {},
   "outputs": [],
   "source": []
  },
  {
   "cell_type": "code",
   "execution_count": null,
   "metadata": {},
   "outputs": [],
   "source": []
  },
  {
   "cell_type": "code",
   "execution_count": null,
   "metadata": {},
   "outputs": [],
   "source": []
  }
 ],
 "metadata": {
  "kernelspec": {
   "display_name": "Python 3",
   "language": "python",
   "name": "python3"
  },
  "language_info": {
   "codemirror_mode": {
    "name": "ipython",
    "version": 3
   },
   "file_extension": ".py",
   "mimetype": "text/x-python",
   "name": "python",
   "nbconvert_exporter": "python",
   "pygments_lexer": "ipython3",
   "version": "3.7.5"
  }
 },
 "nbformat": 4,
 "nbformat_minor": 4
}
